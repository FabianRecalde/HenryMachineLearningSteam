{
 "cells": [
  {
   "cell_type": "code",
   "execution_count": 1,
   "metadata": {},
   "outputs": [],
   "source": [
    "# loading required libraries to perform sentiment analysis\n",
    "\n",
    "import pyarrow as pa\n",
    "import numpy as np\n",
    "import pyarrow.parquet as pq\n",
    "from textblob import TextBlob"
   ]
  },
  {
   "cell_type": "code",
   "execution_count": 2,
   "metadata": {},
   "outputs": [],
   "source": [
    "# reading file\n",
    "\n",
    "user_reviews = pq.read_table('user_reviews.parquet')"
   ]
  },
  {
   "cell_type": "code",
   "execution_count": 3,
   "metadata": {},
   "outputs": [],
   "source": [
    "# creating a function to call in order to analize every review and rank it within the given parameters\n",
    "\n",
    "def sentiment_analysis(text):\n",
    "    analysis = TextBlob(str(text))\n",
    "    score = analysis.sentiment.polarity\n",
    "\n",
    "    if score > 0:\n",
    "        return 2  # Positive\n",
    "    elif score < 0:\n",
    "        return 0  # Negative\n",
    "    else:\n",
    "        return 1  # Neutral"
   ]
  },
  {
   "cell_type": "code",
   "execution_count": 4,
   "metadata": {},
   "outputs": [],
   "source": [
    "# Converting user_reviews into a pandas dataframe\n",
    "\n",
    "user_reviews_pandas = user_reviews.to_pandas()"
   ]
  },
  {
   "cell_type": "code",
   "execution_count": 5,
   "metadata": {},
   "outputs": [],
   "source": [
    "# Applying sentiment analysis function to the \"review\" column and creating the \"sentiment_analysis\" column\n",
    "\n",
    "user_reviews_pandas['sentiment_analysis'] = np.where(user_reviews_pandas['review'].notna(), user_reviews_pandas['review'].apply(lambda x: sentiment_analysis(x)), 1)"
   ]
  },
  {
   "cell_type": "code",
   "execution_count": 6,
   "metadata": {},
   "outputs": [],
   "source": [
    "# deleting the \"review\" column\n",
    "\n",
    "user_reviews_pandas = user_reviews_pandas.drop('review', axis=1)"
   ]
  },
  {
   "cell_type": "code",
   "execution_count": 7,
   "metadata": {},
   "outputs": [],
   "source": [
    "user_reviews_pyarrow = pa.Table.from_pandas(user_reviews_pandas)\n",
    "pq.write_table(user_reviews_pyarrow, \"user_reviews.parquet\")\n",
    "\n",
    "\n"
   ]
  }
 ],
 "metadata": {
  "kernelspec": {
   "display_name": "Python 3",
   "language": "python",
   "name": "python3"
  },
  "language_info": {
   "codemirror_mode": {
    "name": "ipython",
    "version": 3
   },
   "file_extension": ".py",
   "mimetype": "text/x-python",
   "name": "python",
   "nbconvert_exporter": "python",
   "pygments_lexer": "ipython3",
   "version": "3.11.4"
  }
 },
 "nbformat": 4,
 "nbformat_minor": 2
}
