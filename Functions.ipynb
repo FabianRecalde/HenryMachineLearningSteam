{
 "cells": [
  {
   "cell_type": "code",
   "execution_count": 40,
   "metadata": {},
   "outputs": [],
   "source": [
    "import pandas as pd\n",
    "import pyarrow.parquet as pq"
   ]
  },
  {
   "cell_type": "code",
   "execution_count": 41,
   "metadata": {},
   "outputs": [],
   "source": [
    "# Cargar las tablas desde los archivos parquet\n",
    "steam_games = pq.read_table(\"steam_games.parquet\").to_pandas()\n",
    "users_items = pq.read_table(\"users_items.parquet\").to_pandas()"
   ]
  },
  {
   "cell_type": "code",
   "execution_count": 42,
   "metadata": {},
   "outputs": [],
   "source": [
    "def PlayTimeGenre(genre):\n",
    "    # Convertir 'item_id' a tipo numérico si es necesario\n",
    "    users_items['item_id'] = pd.to_numeric(users_items['item_id'], errors='coerce')\n",
    "\n",
    "    # Unir las tablas utilizando la columna \"id\" en 'steam_games' y \"item_id\" en 'users_items'\n",
    "    merged_data = pd.merge(users_items, steam_games, left_on=\"item_id\", right_on=\"id\", how=\"inner\")\n",
    "\n",
    "    # Filtrar los juegos que correspondan al género proporcionado\n",
    "    genre_data = merged_data.dropna(subset=['genres'])\n",
    "    genre_data = genre_data[genre_data['genres'].apply(lambda x: genre in x)]\n",
    "\n",
    "    # Convertir la columna \"release_date\" a tipo datetime\n",
    "    try:\n",
    "        genre_data['release_date'] = pd.to_datetime(genre_data['release_date'], errors='raise', infer_datetime_format=True)\n",
    "    except ValueError:\n",
    "        # Si la inferencia de formato falla, intentar especificar el formato manualmente\n",
    "        genre_data['release_date'] = pd.to_datetime(genre_data['release_date'], errors='coerce', format='%b %Y')\n",
    "\n",
    "    # Extraer el año de la columna \"release_date\"\n",
    "    genre_data['year'] = genre_data['release_date'].dt.year\n",
    "\n",
    "    # Agrupar por año y calcular la suma de las horas jugadas para cada año\n",
    "    result = genre_data.groupby('year')['playtime_forever'].sum().reset_index()\n",
    "\n",
    "    # Encontrar el año con la mayor cantidad de horas jugadas\n",
    "    max_year = result.loc[result['playtime_forever'].idxmax()]['year']\n",
    "\n",
    "    return max_year"
   ]
  },
  {
   "cell_type": "code",
   "execution_count": 43,
   "metadata": {},
   "outputs": [
    {
     "name": "stderr",
     "output_type": "stream",
     "text": [
      "/var/folders/7l/jr096cm117gfqxv28vmgt9b80000gp/T/ipykernel_46705/2675117312.py:14: UserWarning: The argument 'infer_datetime_format' is deprecated and will be removed in a future version. A strict version of it is now the default, see https://pandas.pydata.org/pdeps/0004-consistent-to-datetime-parsing.html. You can safely remove this argument.\n",
      "  genre_data['release_date'] = pd.to_datetime(genre_data['release_date'], errors='raise', infer_datetime_format=True)\n"
     ]
    },
    {
     "name": "stdout",
     "output_type": "stream",
     "text": [
      "El año con más horas jugadas para el género Casual es: 2014.0\n"
     ]
    }
   ],
   "source": [
    "# Ejemplo de uso\n",
    "genre = \"Casual\"  # Reemplaza con el género deseado\n",
    "result = PlayTimeGenre(genre)\n",
    "print(f\"El año con más horas jugadas para el género {genre} es: {result}\")"
   ]
  }
 ],
 "metadata": {
  "kernelspec": {
   "display_name": "Python 3",
   "language": "python",
   "name": "python3"
  },
  "language_info": {
   "codemirror_mode": {
    "name": "ipython",
    "version": 3
   },
   "file_extension": ".py",
   "mimetype": "text/x-python",
   "name": "python",
   "nbconvert_exporter": "python",
   "pygments_lexer": "ipython3",
   "version": "3.11.4"
  }
 },
 "nbformat": 4,
 "nbformat_minor": 2
}
