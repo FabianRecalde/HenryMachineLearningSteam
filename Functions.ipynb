{
 "cells": [
  {
   "cell_type": "code",
   "execution_count": 93,
   "metadata": {},
   "outputs": [],
   "source": [
    "import pandas as pd\n",
    "import pyarrow.parquet as pq"
   ]
  },
  {
   "cell_type": "code",
   "execution_count": 121,
   "metadata": {},
   "outputs": [],
   "source": [
    "# Cargar las tablas desde los archivos parquet\n",
    "steam_games = pq.read_table(\"steam_games.parquet\").to_pandas()\n",
    "users_items = pq.read_table(\"users_items.parquet\").to_pandas()\n",
    "user_reviews = pq.read_table(\"user_reviews.parquet\").to_pandas()"
   ]
  },
  {
   "cell_type": "code",
   "execution_count": 109,
   "metadata": {},
   "outputs": [],
   "source": [
    "def PlayTimeGenre(genre):\n",
    "    # Convertir 'item_id' a tipo numérico si es necesario\n",
    "    users_items['item_id'] = pd.to_numeric(users_items['item_id'], errors='coerce')\n",
    "\n",
    "    # Unir las tablas utilizando la columna \"id\" en 'steam_games' y \"item_id\" en 'users_items'\n",
    "    merged_data = pd.merge(users_items, steam_games, left_on=\"item_id\", right_on=\"id\", how=\"left\")\n",
    "    \n",
    "    # Filtrar los juegos que correspondan al género proporcionado\n",
    "    genre_data = merged_data.dropna(subset=['genres'])\n",
    "    genre_data = genre_data[genre_data['genres'].apply(lambda x: genre in x)]\n",
    "    \n",
    "    # Convertir la columna \"release_date\" a tipo datetime\n",
    "    try:\n",
    "        genre_data['release_date'] = pd.to_datetime(genre_data['release_date'], errors='raise', infer_datetime_format=True)\n",
    "    except ValueError:\n",
    "        # Si la inferencia de formato falla, intentar especificar el formato manualmente\n",
    "        genre_data['release_date'] = pd.to_datetime(genre_data['release_date'], errors='coerce', format='%b %Y')\n",
    "\n",
    "    # Extraer el año de la columna \"release_date\"\n",
    "    genre_data['year'] = genre_data['release_date'].dt.year\n",
    "\n",
    "    # Agrupar por año y calcular la suma de las horas jugadas para cada año\n",
    "    result = genre_data.groupby('year')['playtime_forever'].sum().reset_index()\n",
    "\n",
    "    # Encontrar el año con la mayor cantidad de horas jugadas\n",
    "    max_year = result.loc[result['playtime_forever'].idxmax()]['year']\n",
    "\n",
    "    return max_year"
   ]
  },
  {
   "cell_type": "code",
   "execution_count": 110,
   "metadata": {},
   "outputs": [
    {
     "name": "stderr",
     "output_type": "stream",
     "text": [
      "/var/folders/7l/jr096cm117gfqxv28vmgt9b80000gp/T/ipykernel_67711/37360139.py:14: UserWarning: The argument 'infer_datetime_format' is deprecated and will be removed in a future version. A strict version of it is now the default, see https://pandas.pydata.org/pdeps/0004-consistent-to-datetime-parsing.html. You can safely remove this argument.\n",
      "  genre_data['release_date'] = pd.to_datetime(genre_data['release_date'], errors='raise', infer_datetime_format=True)\n"
     ]
    },
    {
     "name": "stdout",
     "output_type": "stream",
     "text": [
      "El año con más horas jugadas para el género Action es: 2015.0\n"
     ]
    }
   ],
   "source": [
    "# Ejemplo de uso\n",
    "genre = \"Action\"  # Reemplaza con el género deseado\n",
    "result = PlayTimeGenre(genre)\n",
    "print(f\"El año con más horas jugadas para el género {genre} es: {result}\")"
   ]
  },
  {
   "cell_type": "code",
   "execution_count": 278,
   "metadata": {},
   "outputs": [],
   "source": [
    "def UserForGenre(genre):\n",
    "    # Convertir 'item_id' a tipo numérico si es necesario\n",
    "    users_items['item_id'] = pd.to_numeric(users_items['item_id'], errors='coerce')\n",
    "\n",
    "    # Unir las tablas utilizando la columna \"id\" en 'steam_games' y \"item_id\" en 'users_items'\n",
    "    merged_data = pd.merge(users_items, steam_games, left_on=\"item_id\", right_on=\"id\", how=\"left\")\n",
    "    print(\"MERGED DATA SHAPE\")\n",
    "    print(merged_data.shape)\n",
    "    # Filtrar los juegos que correspondan al género proporcionado\n",
    "    genre_data = merged_data.dropna(subset=['genres'])\n",
    "    print(\"MERGED DATA SIN VACIOS SHAPE\")\n",
    "    print(merged_data.shape)\n",
    "    genre_data = genre_data[genre_data['genres'].apply(lambda x: genre in x)]\n",
    "    print(\"GENRE DATA SOLO GENERO SHAPE\")\n",
    "    genre_data.to_csv('genre_data.csv', index=False)\n",
    "    print(genre_data.shape)\n",
    "    \n",
    "    # Convertir la columna \"release_date\" a tipo datetime\n",
    "    try:\n",
    "        genre_data['release_date'] = pd.to_datetime(genre_data['release_date'], errors='raise', infer_datetime_format=True)\n",
    "    except ValueError:\n",
    "        # Si la inferencia de formato falla, intentar especificar el formato manualmente\n",
    "        genre_data['release_date'] = pd.to_datetime(genre_data['release_date'], errors='coerce', format='%b %Y')\n",
    "\n",
    "    # Extraer el año de la columna \"release_date\"\n",
    "    genre_data['year'] = genre_data['release_date'].dt.year\n",
    "    genre_data['playtime_forever'] = pd.to_numeric(genre_data['playtime_forever'], errors='coerce')\n",
    "    genre_data = genre_data.dropna(subset=['year', 'user_id', 'playtime_forever'])\n",
    "    print(\"GENRE DATA SIN NULOS SHAPE\")\n",
    "    print(genre_data.shape)\n",
    "    \n",
    "    # Agrupar por usuario y calcular la suma de las horas jugadas para cada usuario\n",
    "    user_total_playtime = genre_data.groupby('user_id')['playtime_forever'].sum()\n",
    "    user_total_playtime = user_total_playtime.reset_index()\n",
    "\n",
    "    # limpiar datos invalidos\n",
    "    #user_total_playtime['playtime_forever'] = pd.to_numeric(user_total_playtime['playtime_forever'], errors='coerce')\n",
    "    #user_total_playtime = user_total_playtime.dropna()\n",
    "    \n",
    "    # Obtener el usuario con más horas jugadas\n",
    "    sorted_users = user_total_playtime.sort_values(by='playtime_forever', ascending=False)\n",
    "    sorted_users = sorted_users.reset_index()\n",
    "    sorted_users.drop('index', axis=1, inplace=True)\n",
    "    \n",
    "    # Obtener el usuario con más horas jugadas\n",
    "    max_user = sorted_users['user_id'].iloc[0]\n",
    "    \n",
    "    # Filtrar los datos solo para el usuario con la máxima cantidad de horas jugadas\n",
    "    max_user_data = genre_data[genre_data['user_id'] == max_user]\n",
    "\n",
    "    # Agrupar por año y calcular la suma de las horas jugadas para ese usuario\n",
    "    year_playtime = max_user_data.groupby('year')['playtime_forever'].sum().reset_index()\n",
    "    \n",
    "    # Convertir a lista de tuplas (año, horas acumuladas)\n",
    "    year_playtime_list = list(year_playtime.to_records(index=False))\n",
    "\n",
    "    return max_user, year_playtime_list"
   ]
  },
  {
   "cell_type": "code",
   "execution_count": 279,
   "metadata": {},
   "outputs": [
    {
     "name": "stdout",
     "output_type": "stream",
     "text": [
      "MERGED DATA SHAPE\n",
      "(5153477, 21)\n",
      "MERGED DATA SIN VACIOS SHAPE\n",
      "(5153477, 21)\n",
      "GENRE DATA SOLO GENERO SHAPE\n",
      "(500418, 21)\n",
      "GENRE DATA SIN NULOS SHAPE\n",
      "(72, 22)\n"
     ]
    },
    {
     "name": "stderr",
     "output_type": "stream",
     "text": [
      "/var/folders/7l/jr096cm117gfqxv28vmgt9b80000gp/T/ipykernel_67711/3094917327.py:20: UserWarning: The argument 'infer_datetime_format' is deprecated and will be removed in a future version. A strict version of it is now the default, see https://pandas.pydata.org/pdeps/0004-consistent-to-datetime-parsing.html. You can safely remove this argument.\n",
      "  genre_data['release_date'] = pd.to_datetime(genre_data['release_date'], errors='raise', infer_datetime_format=True)\n"
     ]
    },
    {
     "data": {
      "text/plain": [
       "('76561198089944936', [(2014., 18533.)])"
      ]
     },
     "execution_count": 279,
     "metadata": {},
     "output_type": "execute_result"
    }
   ],
   "source": [
    "# Ejemplo de uso\n",
    "genre = \"Casual\"  # Reemplaza con el género deseado\n",
    "UserForGenre(genre)"
   ]
  }
 ],
 "metadata": {
  "kernelspec": {
   "display_name": "Python 3",
   "language": "python",
   "name": "python3"
  },
  "language_info": {
   "codemirror_mode": {
    "name": "ipython",
    "version": 3
   },
   "file_extension": ".py",
   "mimetype": "text/x-python",
   "name": "python",
   "nbconvert_exporter": "python",
   "pygments_lexer": "ipython3",
   "version": "3.11.4"
  }
 },
 "nbformat": 4,
 "nbformat_minor": 2
}
